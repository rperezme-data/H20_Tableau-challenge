{
 "cells": [
  {
   "cell_type": "markdown",
   "id": "691d88e6",
   "metadata": {},
   "source": [
    "# Explore & Transform"
   ]
  },
  {
   "cell_type": "code",
   "execution_count": 1,
   "id": "b27b92cd",
   "metadata": {},
   "outputs": [],
   "source": [
    "## Dependencies\n",
    "import pandas as pd\n",
    "import numpy as np"
   ]
  },
  {
   "cell_type": "markdown",
   "id": "395335cb",
   "metadata": {},
   "source": [
    "## Previous Table Structure"
   ]
  },
  {
   "cell_type": "code",
   "execution_count": 44,
   "id": "e98b2b8e",
   "metadata": {},
   "outputs": [
    {
     "data": {
      "text/plain": [
       "(726676, 15)"
      ]
     },
     "execution_count": 44,
     "metadata": {},
     "output_type": "execute_result"
    }
   ],
   "source": [
    "citibike_previous = pd.read_csv(\"input/201701-citibike-tripdata.csv\", low_memory=False)\n",
    "citibike_previous.shape"
   ]
  },
  {
   "cell_type": "code",
   "execution_count": 45,
   "id": "350336c1",
   "metadata": {},
   "outputs": [
    {
     "data": {
      "text/html": [
       "<div>\n",
       "<style scoped>\n",
       "    .dataframe tbody tr th:only-of-type {\n",
       "        vertical-align: middle;\n",
       "    }\n",
       "\n",
       "    .dataframe tbody tr th {\n",
       "        vertical-align: top;\n",
       "    }\n",
       "\n",
       "    .dataframe thead th {\n",
       "        text-align: right;\n",
       "    }\n",
       "</style>\n",
       "<table border=\"1\" class=\"dataframe\">\n",
       "  <thead>\n",
       "    <tr style=\"text-align: right;\">\n",
       "      <th></th>\n",
       "      <th>Trip Duration</th>\n",
       "      <th>Start Time</th>\n",
       "      <th>Stop Time</th>\n",
       "      <th>Start Station ID</th>\n",
       "      <th>Start Station Name</th>\n",
       "      <th>Start Station Latitude</th>\n",
       "      <th>Start Station Longitude</th>\n",
       "      <th>End Station ID</th>\n",
       "      <th>End Station Name</th>\n",
       "      <th>End Station Latitude</th>\n",
       "      <th>End Station Longitude</th>\n",
       "      <th>Bike ID</th>\n",
       "      <th>User Type</th>\n",
       "      <th>Birth Year</th>\n",
       "      <th>Gender</th>\n",
       "    </tr>\n",
       "  </thead>\n",
       "  <tbody>\n",
       "    <tr>\n",
       "      <th>0</th>\n",
       "      <td>680</td>\n",
       "      <td>2017-01-01 00:00:21</td>\n",
       "      <td>2017-01-01 00:11:41</td>\n",
       "      <td>3226</td>\n",
       "      <td>W 82 St &amp; Central Park West</td>\n",
       "      <td>40.782750</td>\n",
       "      <td>-73.971370</td>\n",
       "      <td>3165</td>\n",
       "      <td>Central Park West &amp; W 72 St</td>\n",
       "      <td>40.775794</td>\n",
       "      <td>-73.976206</td>\n",
       "      <td>25542</td>\n",
       "      <td>Subscriber</td>\n",
       "      <td>1965.0</td>\n",
       "      <td>2</td>\n",
       "    </tr>\n",
       "    <tr>\n",
       "      <th>1</th>\n",
       "      <td>1282</td>\n",
       "      <td>2017-01-01 00:00:45</td>\n",
       "      <td>2017-01-01 00:22:08</td>\n",
       "      <td>3263</td>\n",
       "      <td>Cooper Square &amp; E 7 St</td>\n",
       "      <td>40.729236</td>\n",
       "      <td>-73.990868</td>\n",
       "      <td>498</td>\n",
       "      <td>Broadway &amp; W 32 St</td>\n",
       "      <td>40.748549</td>\n",
       "      <td>-73.988084</td>\n",
       "      <td>21136</td>\n",
       "      <td>Subscriber</td>\n",
       "      <td>1987.0</td>\n",
       "      <td>2</td>\n",
       "    </tr>\n",
       "    <tr>\n",
       "      <th>2</th>\n",
       "      <td>648</td>\n",
       "      <td>2017-01-01 00:00:57</td>\n",
       "      <td>2017-01-01 00:11:46</td>\n",
       "      <td>3143</td>\n",
       "      <td>5 Ave &amp; E 78 St</td>\n",
       "      <td>40.776829</td>\n",
       "      <td>-73.963888</td>\n",
       "      <td>3152</td>\n",
       "      <td>3 Ave &amp; E 71 St</td>\n",
       "      <td>40.768737</td>\n",
       "      <td>-73.961199</td>\n",
       "      <td>18147</td>\n",
       "      <td>Customer</td>\n",
       "      <td>NaN</td>\n",
       "      <td>0</td>\n",
       "    </tr>\n",
       "    <tr>\n",
       "      <th>3</th>\n",
       "      <td>631</td>\n",
       "      <td>2017-01-01 00:01:10</td>\n",
       "      <td>2017-01-01 00:11:42</td>\n",
       "      <td>3143</td>\n",
       "      <td>5 Ave &amp; E 78 St</td>\n",
       "      <td>40.776829</td>\n",
       "      <td>-73.963888</td>\n",
       "      <td>3152</td>\n",
       "      <td>3 Ave &amp; E 71 St</td>\n",
       "      <td>40.768737</td>\n",
       "      <td>-73.961199</td>\n",
       "      <td>21211</td>\n",
       "      <td>Customer</td>\n",
       "      <td>NaN</td>\n",
       "      <td>0</td>\n",
       "    </tr>\n",
       "    <tr>\n",
       "      <th>4</th>\n",
       "      <td>621</td>\n",
       "      <td>2017-01-01 00:01:25</td>\n",
       "      <td>2017-01-01 00:11:47</td>\n",
       "      <td>3143</td>\n",
       "      <td>5 Ave &amp; E 78 St</td>\n",
       "      <td>40.776829</td>\n",
       "      <td>-73.963888</td>\n",
       "      <td>3152</td>\n",
       "      <td>3 Ave &amp; E 71 St</td>\n",
       "      <td>40.768737</td>\n",
       "      <td>-73.961199</td>\n",
       "      <td>26819</td>\n",
       "      <td>Customer</td>\n",
       "      <td>NaN</td>\n",
       "      <td>0</td>\n",
       "    </tr>\n",
       "  </tbody>\n",
       "</table>\n",
       "</div>"
      ],
      "text/plain": [
       "   Trip Duration           Start Time            Stop Time  Start Station ID  \\\n",
       "0            680  2017-01-01 00:00:21  2017-01-01 00:11:41              3226   \n",
       "1           1282  2017-01-01 00:00:45  2017-01-01 00:22:08              3263   \n",
       "2            648  2017-01-01 00:00:57  2017-01-01 00:11:46              3143   \n",
       "3            631  2017-01-01 00:01:10  2017-01-01 00:11:42              3143   \n",
       "4            621  2017-01-01 00:01:25  2017-01-01 00:11:47              3143   \n",
       "\n",
       "            Start Station Name  Start Station Latitude  \\\n",
       "0  W 82 St & Central Park West               40.782750   \n",
       "1       Cooper Square & E 7 St               40.729236   \n",
       "2              5 Ave & E 78 St               40.776829   \n",
       "3              5 Ave & E 78 St               40.776829   \n",
       "4              5 Ave & E 78 St               40.776829   \n",
       "\n",
       "   Start Station Longitude  End Station ID             End Station Name  \\\n",
       "0               -73.971370            3165  Central Park West & W 72 St   \n",
       "1               -73.990868             498           Broadway & W 32 St   \n",
       "2               -73.963888            3152              3 Ave & E 71 St   \n",
       "3               -73.963888            3152              3 Ave & E 71 St   \n",
       "4               -73.963888            3152              3 Ave & E 71 St   \n",
       "\n",
       "   End Station Latitude  End Station Longitude  Bike ID   User Type  \\\n",
       "0             40.775794             -73.976206    25542  Subscriber   \n",
       "1             40.748549             -73.988084    21136  Subscriber   \n",
       "2             40.768737             -73.961199    18147    Customer   \n",
       "3             40.768737             -73.961199    21211    Customer   \n",
       "4             40.768737             -73.961199    26819    Customer   \n",
       "\n",
       "   Birth Year  Gender  \n",
       "0      1965.0       2  \n",
       "1      1987.0       2  \n",
       "2         NaN       0  \n",
       "3         NaN       0  \n",
       "4         NaN       0  "
      ]
     },
     "execution_count": 45,
     "metadata": {},
     "output_type": "execute_result"
    }
   ],
   "source": [
    "citibike_previous.head()"
   ]
  },
  {
   "cell_type": "code",
   "execution_count": 46,
   "id": "3c83a8b1",
   "metadata": {},
   "outputs": [],
   "source": [
    "citibike_previous = citibike_previous.sample(frac=0.02)\n",
    "citibike_previous.reset_index(inplace=True)"
   ]
  },
  {
   "cell_type": "code",
   "execution_count": 47,
   "id": "3bf26452",
   "metadata": {},
   "outputs": [
    {
     "data": {
      "text/plain": [
       "(14534, 16)"
      ]
     },
     "execution_count": 47,
     "metadata": {},
     "output_type": "execute_result"
    }
   ],
   "source": [
    "citibike_previous.shape"
   ]
  },
  {
   "cell_type": "code",
   "execution_count": 53,
   "id": "a292aaf9",
   "metadata": {},
   "outputs": [
    {
     "data": {
      "text/plain": [
       "Index(['index', 'tripduration', 'starttime', 'stoptime', 'startstationid',\n",
       "       'startstationname', 'startstationlatitude', 'startstationlongitude',\n",
       "       'endstationid', 'endstationname', 'endstationlatitude',\n",
       "       'endstationlongitude', 'bikeid', 'usertype', 'birthyear', 'gender'],\n",
       "      dtype='object')"
      ]
     },
     "execution_count": 53,
     "metadata": {},
     "output_type": "execute_result"
    }
   ],
   "source": [
    "citibike_previous.columns.str.replace(' ', '').str.lower()"
   ]
  },
  {
   "cell_type": "code",
   "execution_count": 49,
   "id": "f181f949",
   "metadata": {},
   "outputs": [
    {
     "data": {
      "text/plain": [
       "Index(['index', 'Trip Duration', 'Start Time', 'Stop Time', 'Start Station ID',\n",
       "       'Start Station Name', 'Start Station Latitude',\n",
       "       'Start Station Longitude', 'End Station ID', 'End Station Name',\n",
       "       'End Station Latitude', 'End Station Longitude', 'Bike ID', 'User Type',\n",
       "       'Birth Year', 'Gender'],\n",
       "      dtype='object')"
      ]
     },
     "execution_count": 49,
     "metadata": {},
     "output_type": "execute_result"
    }
   ],
   "source": [
    "citibike_previous.columns"
   ]
  },
  {
   "cell_type": "code",
   "execution_count": 50,
   "id": "8c1acf0a",
   "metadata": {},
   "outputs": [
    {
     "data": {
      "text/plain": [
       "index                        int64\n",
       "Trip Duration                int64\n",
       "Start Time                  object\n",
       "Stop Time                   object\n",
       "Start Station ID             int64\n",
       "Start Station Name          object\n",
       "Start Station Latitude     float64\n",
       "Start Station Longitude    float64\n",
       "End Station ID               int64\n",
       "End Station Name            object\n",
       "End Station Latitude       float64\n",
       "End Station Longitude      float64\n",
       "Bike ID                      int64\n",
       "User Type                   object\n",
       "Birth Year                 float64\n",
       "Gender                       int64\n",
       "dtype: object"
      ]
     },
     "execution_count": 50,
     "metadata": {},
     "output_type": "execute_result"
    }
   ],
   "source": [
    "citibike_previous.dtypes"
   ]
  },
  {
   "cell_type": "code",
   "execution_count": 54,
   "id": "027047ef",
   "metadata": {},
   "outputs": [
    {
     "data": {
      "text/plain": [
       "'2017-01-12 09:36:40'"
      ]
     },
     "execution_count": 54,
     "metadata": {},
     "output_type": "execute_result"
    }
   ],
   "source": [
    "citibike_previous['Start Time'][0]"
   ]
  },
  {
   "cell_type": "code",
   "execution_count": null,
   "id": "7622ec50",
   "metadata": {},
   "outputs": [],
   "source": [
    "type(citibike_previous['tripduration'][0])"
   ]
  },
  {
   "cell_type": "code",
   "execution_count": null,
   "id": "63c0d608",
   "metadata": {},
   "outputs": [],
   "source": [
    "gender_list = []\n",
    "for i in range(len(citibike_previous)):\n",
    "    if (citibike_previous['gender'][i] == 1):\n",
    "        gender_list.append('Male')\n",
    "    elif (citibike_previous['gender'][i] == 2):\n",
    "        gender_list.append('Female')\n",
    "    else:\n",
    "        gender_list.append('Unknown')     "
   ]
  },
  {
   "cell_type": "code",
   "execution_count": null,
   "id": "0ccdc72c",
   "metadata": {},
   "outputs": [],
   "source": [
    "citibike_previous['gender_cat'] = gender_list\n",
    "citibike_previous['gender_cat'].value_counts()"
   ]
  },
  {
   "cell_type": "code",
   "execution_count": null,
   "id": "46fd5169",
   "metadata": {},
   "outputs": [],
   "source": [
    "type(citibike_previous['birth year'][0])"
   ]
  },
  {
   "cell_type": "code",
   "execution_count": null,
   "id": "198f8038",
   "metadata": {},
   "outputs": [],
   "source": [
    "citibike_previous['birth year'].dtype"
   ]
  },
  {
   "cell_type": "code",
   "execution_count": null,
   "id": "a326a65c",
   "metadata": {},
   "outputs": [],
   "source": [
    "citibike_previous['birth year'] = citibike_previous['birth year'].astype(int)"
   ]
  },
  {
   "cell_type": "code",
   "execution_count": null,
   "id": "e2f0239b",
   "metadata": {},
   "outputs": [],
   "source": [
    "columns_previous = ['bikeid',\n",
    "                    'starttime', 'stoptime', 'tripduration',\n",
    "                    'start station id', 'start station name',\n",
    "                    'end station id', 'end station name',\n",
    "                    'start station latitude', 'start station longitude', \n",
    "                    'end station latitude', 'end station longitude', 'usertype', 'birth year', 'gender_cat']"
   ]
  },
  {
   "cell_type": "code",
   "execution_count": null,
   "id": "6d786197",
   "metadata": {},
   "outputs": [],
   "source": [
    "clean_previous =  citibike_previous[columns_previous]"
   ]
  },
  {
   "cell_type": "code",
   "execution_count": null,
   "id": "8a22fc00",
   "metadata": {},
   "outputs": [],
   "source": [
    "clean_previous = clean_previous.rename(columns = {\n",
    "    'bikeid': 'Bike Id',\n",
    "    'starttime': 'Start DateTime',\n",
    "    'stoptime': 'End DateTime',\n",
    "    'tripduration': 'Duration [s]',\n",
    "    'start station id': 'Start Station Id',\n",
    "    'start station name': 'Start Station Name',\n",
    "    'end station id': 'End Station Id',\n",
    "    'end station name': 'End Station Name',\n",
    "    'start station latitude': 'Start Lat',\n",
    "    'start station longitude': 'Start Lon', \n",
    "    'end station latitude': 'End Lat',\n",
    "    'end station longitude': 'End Lon',\n",
    "    'usertype': 'Membership',\n",
    "    'birth year': 'Birth Year',\n",
    "    'gender_cat': 'Gender'\n",
    "})"
   ]
  },
  {
   "cell_type": "code",
   "execution_count": null,
   "id": "69a79432",
   "metadata": {},
   "outputs": [],
   "source": [
    "clean_previous"
   ]
  },
  {
   "cell_type": "code",
   "execution_count": null,
   "id": "23584caf",
   "metadata": {},
   "outputs": [],
   "source": []
  },
  {
   "cell_type": "code",
   "execution_count": null,
   "id": "cb99c515",
   "metadata": {},
   "outputs": [],
   "source": []
  },
  {
   "cell_type": "markdown",
   "id": "5c8b5f1e",
   "metadata": {},
   "source": [
    "## Current Table Structure"
   ]
  },
  {
   "cell_type": "code",
   "execution_count": 26,
   "id": "cc0efb61",
   "metadata": {},
   "outputs": [
    {
     "data": {
      "text/plain": [
       "(649983, 13)"
      ]
     },
     "execution_count": 26,
     "metadata": {},
     "output_type": "execute_result"
    }
   ],
   "source": [
    "citibike_current = pd.read_csv(\"input/202102-citibike-tripdata.csv\", low_memory=False)\n",
    "citibike_current.shape"
   ]
  },
  {
   "cell_type": "code",
   "execution_count": 27,
   "id": "ad6c816d",
   "metadata": {},
   "outputs": [
    {
     "data": {
      "text/html": [
       "<div>\n",
       "<style scoped>\n",
       "    .dataframe tbody tr th:only-of-type {\n",
       "        vertical-align: middle;\n",
       "    }\n",
       "\n",
       "    .dataframe tbody tr th {\n",
       "        vertical-align: top;\n",
       "    }\n",
       "\n",
       "    .dataframe thead th {\n",
       "        text-align: right;\n",
       "    }\n",
       "</style>\n",
       "<table border=\"1\" class=\"dataframe\">\n",
       "  <thead>\n",
       "    <tr style=\"text-align: right;\">\n",
       "      <th></th>\n",
       "      <th>ride_id</th>\n",
       "      <th>rideable_type</th>\n",
       "      <th>started_at</th>\n",
       "      <th>ended_at</th>\n",
       "      <th>start_station_name</th>\n",
       "      <th>start_station_id</th>\n",
       "      <th>end_station_name</th>\n",
       "      <th>end_station_id</th>\n",
       "      <th>start_lat</th>\n",
       "      <th>start_lng</th>\n",
       "      <th>end_lat</th>\n",
       "      <th>end_lng</th>\n",
       "      <th>member_casual</th>\n",
       "    </tr>\n",
       "  </thead>\n",
       "  <tbody>\n",
       "    <tr>\n",
       "      <th>0</th>\n",
       "      <td>BBA33D73DECE976F</td>\n",
       "      <td>docked_bike</td>\n",
       "      <td>2021-02-26 16:38:54</td>\n",
       "      <td>2021-02-26 16:44:37</td>\n",
       "      <td>E 84 St &amp; Park Ave</td>\n",
       "      <td>7243.04</td>\n",
       "      <td>E 78 St &amp; 2 Ave</td>\n",
       "      <td>7057.07</td>\n",
       "      <td>40.778626</td>\n",
       "      <td>-73.957720</td>\n",
       "      <td>40.772797</td>\n",
       "      <td>-73.955778</td>\n",
       "      <td>casual</td>\n",
       "    </tr>\n",
       "    <tr>\n",
       "      <th>1</th>\n",
       "      <td>B63D7AFF9AC5B6D4</td>\n",
       "      <td>docked_bike</td>\n",
       "      <td>2021-02-17 11:09:11</td>\n",
       "      <td>2021-02-17 11:26:47</td>\n",
       "      <td>Macon St &amp; Nostrand Ave</td>\n",
       "      <td>4214.03</td>\n",
       "      <td>Bond St &amp; Fulton St</td>\n",
       "      <td>4479.06</td>\n",
       "      <td>40.680983</td>\n",
       "      <td>-73.950047</td>\n",
       "      <td>40.689622</td>\n",
       "      <td>-73.983043</td>\n",
       "      <td>member</td>\n",
       "    </tr>\n",
       "    <tr>\n",
       "      <th>2</th>\n",
       "      <td>52B829195C469D99</td>\n",
       "      <td>docked_bike</td>\n",
       "      <td>2021-02-26 18:33:29</td>\n",
       "      <td>2021-02-26 19:05:41</td>\n",
       "      <td>Macon St &amp; Nostrand Ave</td>\n",
       "      <td>4214.03</td>\n",
       "      <td>Lefferts Pl &amp; Franklin Ave</td>\n",
       "      <td>4222.02</td>\n",
       "      <td>40.680983</td>\n",
       "      <td>-73.950047</td>\n",
       "      <td>40.680342</td>\n",
       "      <td>-73.955769</td>\n",
       "      <td>casual</td>\n",
       "    </tr>\n",
       "    <tr>\n",
       "      <th>3</th>\n",
       "      <td>19C84ECA2B468476</td>\n",
       "      <td>docked_bike</td>\n",
       "      <td>2021-02-26 12:48:35</td>\n",
       "      <td>2021-02-26 13:07:24</td>\n",
       "      <td>Macon St &amp; Nostrand Ave</td>\n",
       "      <td>4214.03</td>\n",
       "      <td>Bond St &amp; Fulton St</td>\n",
       "      <td>4479.06</td>\n",
       "      <td>40.680983</td>\n",
       "      <td>-73.950047</td>\n",
       "      <td>40.689622</td>\n",
       "      <td>-73.983043</td>\n",
       "      <td>member</td>\n",
       "    </tr>\n",
       "    <tr>\n",
       "      <th>4</th>\n",
       "      <td>C0DDB771E70D9DF5</td>\n",
       "      <td>docked_bike</td>\n",
       "      <td>2021-02-25 17:23:22</td>\n",
       "      <td>2021-02-25 17:28:20</td>\n",
       "      <td>Madison Ave &amp; E 26 St</td>\n",
       "      <td>6131.12</td>\n",
       "      <td>W 37 St &amp; 5 Ave</td>\n",
       "      <td>6398.06</td>\n",
       "      <td>40.742685</td>\n",
       "      <td>-73.986713</td>\n",
       "      <td>40.750380</td>\n",
       "      <td>-73.983390</td>\n",
       "      <td>member</td>\n",
       "    </tr>\n",
       "  </tbody>\n",
       "</table>\n",
       "</div>"
      ],
      "text/plain": [
       "            ride_id rideable_type           started_at             ended_at  \\\n",
       "0  BBA33D73DECE976F   docked_bike  2021-02-26 16:38:54  2021-02-26 16:44:37   \n",
       "1  B63D7AFF9AC5B6D4   docked_bike  2021-02-17 11:09:11  2021-02-17 11:26:47   \n",
       "2  52B829195C469D99   docked_bike  2021-02-26 18:33:29  2021-02-26 19:05:41   \n",
       "3  19C84ECA2B468476   docked_bike  2021-02-26 12:48:35  2021-02-26 13:07:24   \n",
       "4  C0DDB771E70D9DF5   docked_bike  2021-02-25 17:23:22  2021-02-25 17:28:20   \n",
       "\n",
       "        start_station_name start_station_id            end_station_name  \\\n",
       "0       E 84 St & Park Ave          7243.04             E 78 St & 2 Ave   \n",
       "1  Macon St & Nostrand Ave          4214.03         Bond St & Fulton St   \n",
       "2  Macon St & Nostrand Ave          4214.03  Lefferts Pl & Franklin Ave   \n",
       "3  Macon St & Nostrand Ave          4214.03         Bond St & Fulton St   \n",
       "4    Madison Ave & E 26 St          6131.12             W 37 St & 5 Ave   \n",
       "\n",
       "  end_station_id  start_lat  start_lng    end_lat    end_lng member_casual  \n",
       "0        7057.07  40.778626 -73.957720  40.772797 -73.955778        casual  \n",
       "1        4479.06  40.680983 -73.950047  40.689622 -73.983043        member  \n",
       "2        4222.02  40.680983 -73.950047  40.680342 -73.955769        casual  \n",
       "3        4479.06  40.680983 -73.950047  40.689622 -73.983043        member  \n",
       "4        6398.06  40.742685 -73.986713  40.750380 -73.983390        member  "
      ]
     },
     "execution_count": 27,
     "metadata": {},
     "output_type": "execute_result"
    }
   ],
   "source": [
    "citibike_current.head()"
   ]
  },
  {
   "cell_type": "code",
   "execution_count": null,
   "id": "ee59c15a",
   "metadata": {},
   "outputs": [],
   "source": [
    "delta = pd.to_datetime(citibike_current['ended_at']) - pd.to_datetime(citibike_current['started_at'])\n",
    "citibike_current['Duration [s]'] = delta.dt.total_seconds().astype(np.int64)"
   ]
  },
  {
   "cell_type": "code",
   "execution_count": null,
   "id": "72ad6f76",
   "metadata": {},
   "outputs": [],
   "source": [
    "type(citibike_current['Duration [s]'][0])"
   ]
  },
  {
   "cell_type": "code",
   "execution_count": null,
   "id": "62204215",
   "metadata": {},
   "outputs": [],
   "source": [
    "membership_list = []\n",
    "for i in range(len(citibike_current)):\n",
    "    if (citibike_current['member_casual'][i] == 'member'):\n",
    "        membership_list.append('Subscriber')\n",
    "    elif (citibike_current['member_casual'][i] == 'casual'):\n",
    "        membership_list.append('Customer')\n",
    "    else:\n",
    "        membership_list.append('Unknown')            "
   ]
  },
  {
   "cell_type": "code",
   "execution_count": null,
   "id": "a20e0314",
   "metadata": {},
   "outputs": [],
   "source": [
    "len(membership_list)"
   ]
  },
  {
   "cell_type": "code",
   "execution_count": null,
   "id": "f5ca3997",
   "metadata": {},
   "outputs": [],
   "source": [
    "citibike_current['Membership'] = membership_list\n",
    "citibike_current['Membership'].value_counts()"
   ]
  },
  {
   "cell_type": "code",
   "execution_count": null,
   "id": "17eccf1a",
   "metadata": {},
   "outputs": [],
   "source": [
    "citibike_current['Membership']"
   ]
  },
  {
   "cell_type": "code",
   "execution_count": null,
   "id": "5ffa3d24",
   "metadata": {},
   "outputs": [],
   "source": [
    "columns_current = ['started_at',\n",
    "                   'ended_at',\n",
    "                   'Duration [s]',\n",
    "                   'start_station_id',\n",
    "                   'start_station_name',\n",
    "                   'end_station_id',\n",
    "                   'end_station_name',\n",
    "                   'start_lat',\n",
    "                   'start_lng',\n",
    "                   'end_lat',\n",
    "                   'end_lng',\n",
    "                   'Membership']"
   ]
  },
  {
   "cell_type": "code",
   "execution_count": null,
   "id": "378c0333",
   "metadata": {},
   "outputs": [],
   "source": [
    "clean_current = citibike_current[columns_current]"
   ]
  },
  {
   "cell_type": "code",
   "execution_count": null,
   "id": "7ea7a0ce",
   "metadata": {},
   "outputs": [],
   "source": [
    "clean_current = clean_current.rename(columns={\n",
    "    'started_at': 'Start DateTime',\n",
    "    'ended_at': 'End DateTime',\n",
    "    'start_station_id': 'Start Station Id',\n",
    "    'start_station_name': 'Start Station Name',\n",
    "    'end_station_id': 'End Station Id',\n",
    "    'end_station_name': 'End Station Name',\n",
    "    'start_lat': 'Start Lat',\n",
    "    'start_lng': 'Start Lon',\n",
    "    'end_lat': 'End Lat',\n",
    "    'end_lng': 'End Lon'\n",
    "})"
   ]
  },
  {
   "cell_type": "code",
   "execution_count": null,
   "id": "6c9cac45",
   "metadata": {},
   "outputs": [],
   "source": [
    "clean_current"
   ]
  },
  {
   "cell_type": "code",
   "execution_count": null,
   "id": "95a54e99",
   "metadata": {},
   "outputs": [],
   "source": []
  },
  {
   "cell_type": "markdown",
   "id": "3009e576",
   "metadata": {},
   "source": [
    "## DataFrame Append"
   ]
  },
  {
   "cell_type": "code",
   "execution_count": null,
   "id": "35dcda1c",
   "metadata": {},
   "outputs": [],
   "source": [
    "df1.append(df2, ignore_index = True)"
   ]
  },
  {
   "cell_type": "code",
   "execution_count": null,
   "id": "1e537ba0",
   "metadata": {},
   "outputs": [],
   "source": [
    "citibike_complete = clean_previous.append(clean_current, ignore_index = True)"
   ]
  },
  {
   "cell_type": "code",
   "execution_count": null,
   "id": "9eece509",
   "metadata": {},
   "outputs": [],
   "source": [
    "citibike_complete"
   ]
  },
  {
   "cell_type": "code",
   "execution_count": null,
   "id": "21a885c5",
   "metadata": {},
   "outputs": [],
   "source": [
    "citibike_complete.dtypes"
   ]
  },
  {
   "cell_type": "code",
   "execution_count": null,
   "id": "6425a941",
   "metadata": {},
   "outputs": [],
   "source": [
    "# citibike_complete['Bike Id'].astype(int)"
   ]
  },
  {
   "cell_type": "code",
   "execution_count": null,
   "id": "21876a72",
   "metadata": {},
   "outputs": [],
   "source": [
    "citibike_complete.to_csv(\"output/citibike_analytics.csv\", index=False)"
   ]
  },
  {
   "cell_type": "code",
   "execution_count": null,
   "id": "5f9554d1",
   "metadata": {},
   "outputs": [],
   "source": []
  },
  {
   "cell_type": "markdown",
   "id": "65b7e038",
   "metadata": {},
   "source": [
    "## Multiple Files"
   ]
  },
  {
   "cell_type": "code",
   "execution_count": null,
   "id": "695ef73e",
   "metadata": {},
   "outputs": [],
   "source": [
    "for year in range(5):\n",
    "    for month in range(12):\n",
    "        file_name = f\"{2016+year}{month+1:02d}-citibike-tripdata.csv\"\n",
    "        print(file_name)"
   ]
  },
  {
   "cell_type": "code",
   "execution_count": null,
   "id": "b643ce35",
   "metadata": {},
   "outputs": [],
   "source": [
    "for month in range(5):\n",
    "    file_name = f\"2021{month+2:02d}-citibike-tripdata.csv\"\n",
    "    print(file_name)"
   ]
  },
  {
   "cell_type": "code",
   "execution_count": null,
   "id": "34bef5cb",
   "metadata": {},
   "outputs": [],
   "source": [
    "print(f\"{1:02d}\")"
   ]
  },
  {
   "cell_type": "code",
   "execution_count": null,
   "id": "95ffcf6b",
   "metadata": {},
   "outputs": [],
   "source": []
  }
 ],
 "metadata": {
  "kernelspec": {
   "display_name": "Python 3",
   "language": "python",
   "name": "python3"
  },
  "language_info": {
   "codemirror_mode": {
    "name": "ipython",
    "version": 3
   },
   "file_extension": ".py",
   "mimetype": "text/x-python",
   "name": "python",
   "nbconvert_exporter": "python",
   "pygments_lexer": "ipython3",
   "version": "3.8.8"
  }
 },
 "nbformat": 4,
 "nbformat_minor": 5
}
